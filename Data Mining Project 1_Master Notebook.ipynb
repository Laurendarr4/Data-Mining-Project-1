{
 "cells": [
  {
   "cell_type": "markdown",
   "metadata": {},
   "source": [
    "# Data Mining Project 1\n",
    "## EDA of Hotel Reviews in Europe Dataset\n",
    "#### Created by Michael Crowder, Lauren Darr, Gerardo Garza, and Ariel Francisco\n",
    "#### MSDS 7331-402\n",
    "#### September 17, 2017"
   ]
  },
  {
   "cell_type": "markdown",
   "metadata": {},
   "source": [
    "### Introduction and business understanding\n",
    "“Can you make your trip cozier by using data science?” This is the question author Jason Liu proposes with the Kaggle data set ‘515k Hotel Reviews Data in Europe.’ This public data set was originally scraped from Booking.com. The opinions of 515,000 customers on 1,493 luxury European hotels were gathered for the purpose of exploration. However, this data set could provide a wealth of information to both hotel owners and customers alike. \n",
    "\n",
    "The prevalence of smart-phones makes it easy for customers to review businesses such as hotels and restaurants. Popular applications like 'Yelp' and 'Trip Advisor' have essentially put the power in the cusomters hands to determine the value of services and goods. If businesses to do not take the public opinions of their customers seriously they run the risk of losing much or most of potential future customers. \n",
    "\n",
    "The exploration of this collection of European hotel reviews will address questions such as: \"Is there a relationship between the total number of reviews and the average score?\" and \"Do reviewers from specific nations tend to give more positive or negative reviews?\"\n",
    "\n",
    "The beginning of understanding the tendancies of reviewers is the beginning of understanding customers. As hotels begin to understand their customers more completely they can tailor their marketing, customer service, and interactions in order to build or optimize a positive brand image.  "
   ]
  },
  {
   "cell_type": "markdown",
   "metadata": {},
   "source": [
    "### Attribute meanings and types"
   ]
  },
  {
   "cell_type": "markdown",
   "metadata": {},
   "source": [
    "### Simple Statistics"
   ]
  },
  {
   "cell_type": "markdown",
   "metadata": {},
   "source": [
    "### Visualization of attributes"
   ]
  },
  {
   "cell_type": "markdown",
   "metadata": {},
   "source": [
    "### Attribute relationships"
   ]
  },
  {
   "cell_type": "markdown",
   "metadata": {},
   "source": [
    "### Attributes for predictive model"
   ]
  },
  {
   "cell_type": "markdown",
   "metadata": {},
   "source": [
    "### New features"
   ]
  },
  {
   "cell_type": "markdown",
   "metadata": {},
   "source": [
    "### Extra analysis"
   ]
  }
 ],
 "metadata": {
  "kernelspec": {
   "display_name": "Python (DMProject1)",
   "language": "python",
   "name": "dmproject1"
  },
  "language_info": {
   "codemirror_mode": {
    "name": "ipython",
    "version": 3
   },
   "file_extension": ".py",
   "mimetype": "text/x-python",
   "name": "python",
   "nbconvert_exporter": "python",
   "pygments_lexer": "ipython3",
   "version": "3.6.1"
  }
 },
 "nbformat": 4,
 "nbformat_minor": 2
}
